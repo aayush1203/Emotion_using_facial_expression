{
 "cells": [
  {
   "cell_type": "markdown",
   "metadata": {
    "colab": {
     "base_uri": "https://localhost:8080/"
    },
    "id": "GmVLELwENWnx",
    "outputId": "f06418be-fc16-491f-c08a-9053f65eef70"
   },
   "source": [
    "from google.colab import drive\n",
    "drive.mount('/content/drive')"
   ]
  },
  {
   "cell_type": "code",
   "execution_count": 1,
   "metadata": {
    "id": "Nt6e21uqPMgS"
   },
   "outputs": [
    {
     "name": "stderr",
     "output_type": "stream",
     "text": [
      "Using TensorFlow backend.\n"
     ]
    }
   ],
   "source": [
    "import os\n",
    "import cv2\n",
    "import numpy as np\n",
    "from collections import defaultdict\n",
    "\n",
    "import seaborn as sns\n",
    "from matplotlib import pyplot\n",
    "\n",
    "import tensorflow as tf\n",
    "from tensorflow.keras import optimizers\n",
    "from tensorflow.keras.models import Sequential\n",
    "from tensorflow.keras.layers import Flatten, Dense, Conv2D, MaxPooling3D, GlobalMaxPool3D\n",
    "from tensorflow.keras.layers import TimeDistributed, LSTM, Bidirectional, ConvLSTM2D\n",
    "from tensorflow.keras.layers import Dropout, BatchNormalization\n",
    "from tensorflow.keras.callbacks import Callback, EarlyStopping, ReduceLROnPlateau\n",
    "\n",
    "from keras.utils import np_utils\n",
    "from sklearn.model_selection import train_test_split\n",
    "from sklearn.metrics import classification_report"
   ]
  },
  {
   "cell_type": "code",
   "execution_count": 2,
   "metadata": {
    "colab": {
     "base_uri": "https://localhost:8080/"
    },
    "id": "u2Hep0a4OG3J",
    "outputId": "9dadf6ac-9f4f-4900-ee39-17b493462906"
   },
   "outputs": [
    {
     "name": "stdout",
     "output_type": "stream",
     "text": [
      "happy has 207 number of images\n",
      "fear has 75 number of images\n",
      "surprise has 249 number of images\n",
      "sadness has 84 number of images\n",
      "anger has 135 number of images\n"
     ]
    }
   ],
   "source": [
    "INPUT_PATH = \"./CK+48/\"\n",
    "\n",
    "for dir_ in os.listdir(INPUT_PATH):\n",
    "    count = 0\n",
    "    if dir_==\".DS_Store\":\n",
    "        continue\n",
    "    for f in os.listdir(INPUT_PATH + dir_ + \"/\"):\n",
    "        count += 1\n",
    "    print(f\"{dir_} has {count} number of images\")\n"
   ]
  },
  {
   "cell_type": "code",
   "execution_count": 6,
   "metadata": {
    "colab": {
     "base_uri": "https://localhost:8080/",
     "height": 267
    },
    "id": "Iwar5JXfVWvK",
    "outputId": "bc870b60-3d1e-489b-950e-6ad899650cda"
   },
   "outputs": [
    {
     "data": {
      "image/png": "[encoded data removed]",
      "text/plain": [
       "<Figure size 432x288 with 1 Axes>"
      ]
     },
     "metadata": {
      "needs_background": "light"
     },
     "output_type": "display_data"
    }
   ],
   "source": [
    "inp_pa = \"./CK+48/fear/\"\n",
    "from skimage.io import imread\n",
    "for dir in os.listdir(inp_pa):\n",
    "    im = imread(inp_pa+dir)\n",
    "\n",
    "    pyplot.imshow(im,cmap='gray')\n",
    "  # print(type(im))"
   ]
  },
  {
   "cell_type": "code",
   "execution_count": 7,
   "metadata": {
    "id": "hF6dCz90P3Bw"
   },
   "outputs": [],
   "source": [
    "TOP_EMOTIONS = [\"happy\", \"surprise\", \"anger\", \"sadness\", \"fear\"]"
   ]
  },
  {
   "cell_type": "code",
   "execution_count": 8,
   "metadata": {
    "id": "KZcJVxeSP-Cg"
   },
   "outputs": [],
   "source": [
    "INPUT_PATH = \"./CK+48/\"\n",
    "data = defaultdict(str)\n",
    "for dir_ in os.listdir(INPUT_PATH):\n",
    "    if dir_ in TOP_EMOTIONS:\n",
    "        data[dir_] = defaultdict(list)\n",
    "        for f in os.listdir(INPUT_PATH + dir_ + \"/\"):\n",
    "            sub = f.split(\"_\")[0]\n",
    "            data[dir_][sub].append(f)\n",
    "\n",
    "# data"
   ]
  },
  {
   "cell_type": "code",
   "execution_count": 9,
   "metadata": {
    "id": "2M_ZVqkneB1N"
   },
   "outputs": [],
   "source": [
    "from scipy.fftpack import dct"
   ]
  },
  {
   "cell_type": "code",
   "execution_count": 26,
   "metadata": {
    "id": "XpHS54pNQQg-"
   },
   "outputs": [],
   "source": [
    "### Processing images into array form\n",
    "def dct2(a):\n",
    "    return dct(dct(a.T, norm='ortho').T, norm='ortho')\n",
    "\n",
    "def preprocess_list(x):\n",
    "    return int((x.split(\"_\")[2]).split(\".\")[0])\n",
    "\n",
    "def preprocess_dict(x):\n",
    "    res = list(np.argsort(list(map(preprocess_list, x))))\n",
    "    return [x[i] for i in res]\n",
    "\n",
    "def img2array(x,path):\n",
    "    arr = np.empty(shape=(3,48,48))\n",
    "    for i,f in enumerate(x):\n",
    "        img = cv2.imread(path+f,0)\n",
    "        imgF = dct2(img)\n",
    "        imgF = imgF[0:48,0:48]\n",
    "        imgF = imgF*3\n",
    "        arr[i] = imgF\n",
    "    return arr"
   ]
  },
  {
   "cell_type": "code",
   "execution_count": 27,
   "metadata": {
    "id": "0owCbY3IQ62k"
   },
   "outputs": [],
   "source": [
    "for emotion in data:\n",
    "    data[emotion] = dict((k, preprocess_dict(v)) for k, v in data[emotion].items())\n",
    "    data[emotion] = dict((k, img2array(v, path=INPUT_PATH + emotion + \"/\")) for k, v in data[emotion].items())\n",
    "\n",
    "# data"
   ]
  },
  {
   "cell_type": "code",
   "execution_count": 28,
   "metadata": {
    "colab": {
     "base_uri": "https://localhost:8080/"
    },
    "id": "C4N2NpAwj0SD",
    "outputId": "0a39abec-9d72-44b4-a536-a7fa84cdf15a"
   },
   "outputs": [
    {
     "name": "stdout",
     "output_type": "stream",
     "text": [
      "happy has 69 samples\n",
      "fear has 25 samples\n",
      "surprise has 83 samples\n",
      "sadness has 28 samples\n",
      "anger has 45 samples\n"
     ]
    }
   ],
   "source": [
    "for k,v in data.items():\n",
    "    print(f\"{k} has {len(v)} samples\")"
   ]
  },
  {
   "cell_type": "markdown",
   "metadata": {
    "id": "_-oF8pjoRFfF"
   },
   "source": [
    "### Making a data of all images of emotions in separate array"
   ]
  },
  {
   "cell_type": "code",
   "execution_count": 29,
   "metadata": {
    "colab": {
     "base_uri": "https://localhost:8080/"
    },
    "id": "Ok-pQ8sxRBfp",
    "outputId": "8f0f28e0-82c9-4d7d-b69d-6b07ebde786d"
   },
   "outputs": [
    {
     "name": "stderr",
     "output_type": "stream",
     "text": [
      "/opt/anaconda3/lib/python3.7/site-packages/IPython/core/interactiveshell.py:3249: FutureWarning: arrays to stack must be passed as a \"sequence\" type such as list or tuple. Support for non-sequence iterables such as generators is deprecated as of NumPy 1.16 and will raise an error in the future.\n",
      "  if (await self.run_code(code, result,  async_=asy)):\n"
     ]
    },
    {
     "data": {
      "text/plain": [
       "((250, 3, 48, 48, 1), (250, 5))"
      ]
     },
     "execution_count": 29,
     "metadata": {},
     "output_type": "execute_result"
    }
   ],
   "source": [
    "surprise = np.stack(data[\"surprise\"].values(), axis=0)\n",
    "surprise = surprise.reshape(*surprise.shape,1)\n",
    "\n",
    "happy = np.stack(data[\"happy\"].values(), axis=0)\n",
    "happy = happy.reshape(*happy.shape,1)\n",
    "\n",
    "anger = np.stack(data[\"anger\"].values(), axis=0)\n",
    "anger = anger.reshape(*anger.shape,1)\n",
    "\n",
    "sadness = np.stack(data[\"sadness\"].values(), axis=0)\n",
    "sadness = sadness.reshape(*sadness.shape,1)\n",
    "\n",
    "fear = np.stack(data[\"fear\"].values(), axis=0)\n",
    "fear = fear.reshape(*fear.shape,1)\n",
    "\n",
    "X = np.concatenate((surprise, happy, anger, sadness, fear))\n",
    "y = np.concatenate((np.array([0]*83), np.array([1]*69), np.array([2]*45), np.array([3]*28), np.array([4]*25)))\n",
    "y = np_utils.to_categorical(y)\n",
    "\n",
    "X.shape, y.shape"
   ]
  },
  {
   "cell_type": "markdown",
   "metadata": {
    "id": "E4gzN9nfROhQ"
   },
   "source": [
    "### Combining all 5 array 3 times"
   ]
  },
  {
   "cell_type": "code",
   "execution_count": 30,
   "metadata": {
    "colab": {
     "base_uri": "https://localhost:8080/"
    },
    "id": "B4pFEph0RO_o",
    "outputId": "a559e3ed-d161-46e5-b272-c0f43d1eff2c"
   },
   "outputs": [
    {
     "name": "stdout",
     "output_type": "stream",
     "text": [
      "(750, 3, 48, 48, 1)\n",
      "(750, 5)\n"
     ]
    }
   ],
   "source": [
    "X1 = np.concatenate((surprise, happy, anger, sadness, fear,surprise, happy, anger, sadness, fear,surprise, happy, anger, sadness, fear))\n",
    "y1 = np.concatenate((np.array([0]*83), np.array([1]*69), np.array([2]*45), np.array([3]*28), np.array([4]*25),np.array([0]*83), np.array([1]*69), np.array([2]*45), np.array([3]*28), np.array([4]*25),np.array([0]*83), np.array([1]*69), np.array([2]*45), np.array([3]*28), np.array([4]*25)))\n",
    "y1 = np_utils.to_categorical(y1)\n",
    "\n",
    "print(X1.shape)\n",
    "print(y1.shape)\n"
   ]
  },
  {
   "cell_type": "code",
   "execution_count": 31,
   "metadata": {
    "id": "oK1x7_jGj89Z"
   },
   "outputs": [],
   "source": [
    "label_emotion_mapper = {0:\"surprise\", 1:\"happy\", 2:\"anger\", 3:\"sadness\", 4:\"fear\"}"
   ]
  },
  {
   "cell_type": "code",
   "execution_count": 32,
   "metadata": {
    "colab": {
     "base_uri": "https://localhost:8080/"
    },
    "id": "kigU82etkDwI",
    "outputId": "ef9e5405-d7d2-4c0b-fc70-cb152bba0d03"
   },
   "outputs": [],
   "source": [
    "# X_train, X_valid, y_train, y_valid = train_test_split(X1, y1, train_size=0.8, stratify=y1, shuffle=True, random_state=42)\n",
    "# X_train.shape, X_valid.shape\n",
    "X_train = X1\n",
    "y_train = y1\n"
   ]
  },
  {
   "cell_type": "code",
   "execution_count": 33,
   "metadata": {
    "colab": {
     "base_uri": "https://localhost:8080/"
    },
    "id": "hweAuXlOkIuS",
    "outputId": "cfc22e46-7aed-4e16-dcbe-38cd75680fac"
   },
   "outputs": [],
   "source": [
    "# y_train.shape,y_valid.shape"
   ]
  },
  {
   "cell_type": "code",
   "execution_count": 34,
   "metadata": {
    "colab": {
     "base_uri": "https://localhost:8080/",
     "height": 734
    },
    "id": "jZ8br5WDkI-2",
    "outputId": "f2302b6a-466a-400e-d3b0-fb9fb835141d"
   },
   "outputs": [
    {
     "data": {
      "image/png": "[encoded data removed]",
      "text/plain": [
       "<Figure size 432x936 with 15 Axes>"
      ]
     },
     "metadata": {},
     "output_type": "display_data"
    }
   ],
   "source": [
    "np.random.seed(42)\n",
    "surprise_idx = np.random.choice(np.where(y_train[:, 0]==1)[0], size=1)\n",
    "happy_idx = np.random.choice(np.where(y_train[:, 1]==1)[0], size=1)\n",
    "anger_idx = np.random.choice(np.where(y_train[:, 2]==1)[0], size=1)\n",
    "sad_idx = np.random.choice(np.where(y_train[:, 3]==1)[0], size=1)\n",
    "fear_idx = np.random.choice(np.where(y_train[:, 4]==1)[0], size=1)\n",
    "\n",
    "fig = pyplot.figure(1, (6,13))\n",
    "\n",
    "i = 0\n",
    "for name, idx in zip(label_emotion_mapper.values(), [surprise_idx, happy_idx, anger_idx, sad_idx, fear_idx]):\n",
    "    for j in range(3):\n",
    "        i += 1\n",
    "        ax = pyplot.subplot(5,3,i)\n",
    "        sample_img = X_train[idx][0,j,:,:,0]\n",
    "        arr = np.asarray(sample_img)\n",
    "        ax.imshow(arr, cmap='gray', vmin=0, vmax=255)\n",
    "        ax.set_xticks([])\n",
    "        ax.set_yticks([])\n",
    "        ax.set_title(name)"
   ]
  },
  {
   "cell_type": "code",
   "execution_count": 35,
   "metadata": {
    "colab": {
     "base_uri": "https://localhost:8080/"
    },
    "id": "YrC5UjDTRVrL",
    "outputId": "7b9e288f-7c03-48ff-8980-3ee9c6122e5e"
   },
   "outputs": [
    {
     "data": {
      "text/plain": [
       "(750, 3, 48, 48, 1)"
      ]
     },
     "execution_count": 35,
     "metadata": {},
     "output_type": "execute_result"
    }
   ],
   "source": [
    "# data normalization\n",
    "X_train = X_train / 255.\n",
    "# X_valid = X_valid / 255.\n",
    "\n",
    "X_train.shape #, X_valid.shape"
   ]
  },
  {
   "cell_type": "code",
   "execution_count": 22,
   "metadata": {
    "id": "tegWF2wRSEe9"
   },
   "outputs": [],
   "source": [
    "def build_convlstm(input_shape, num_class, show_summary=True):\n",
    "    net = Sequential(name='ConvLSTM2D')\n",
    "\n",
    "    net.add(\n",
    "        ConvLSTM2D(\n",
    "            filters=32,\n",
    "            kernel_size=(3,3),\n",
    "            input_shape=input_shape,\n",
    "            return_sequences=True,\n",
    "            recurrent_activation='hard_sigmoid',\n",
    "            activation='tanh',\n",
    "            padding='same',\n",
    "            kernel_initializer='glorot_uniform',\n",
    "            name='convlstm2d_1'\n",
    "        )\n",
    "    )\n",
    "    \n",
    "    net.add(BatchNormalization(name='batchnorm_1'))\n",
    "    \n",
    "    net.add(\n",
    "        MaxPooling3D(\n",
    "            pool_size=(1, 2, 2),\n",
    "            padding='same',\n",
    "            name='maxpool3d_1'\n",
    "        )\n",
    "    )\n",
    "    \n",
    "    net.add(\n",
    "        ConvLSTM2D(\n",
    "            filters=32,\n",
    "            kernel_size=(3,3),\n",
    "            input_shape=input_shape,\n",
    "            return_sequences=True,\n",
    "            recurrent_activation='hard_sigmoid',\n",
    "            activation='tanh',\n",
    "            padding='same',\n",
    "            kernel_initializer='glorot_uniform',\n",
    "            name='convlstm2d_2'\n",
    "        )\n",
    "    )\n",
    "    \n",
    "    net.add(BatchNormalization(name='batchnorm_2'))\n",
    "\n",
    "    net.add(\n",
    "        MaxPooling3D(\n",
    "            pool_size=(1, 2, 2),\n",
    "            padding='same',\n",
    "            name='maxpool3d_2'\n",
    "        )\n",
    "    )\n",
    "    \n",
    "    net.add(Dropout(0.4, name='dropout_1'))\n",
    "\n",
    "    net.add(\n",
    "        ConvLSTM2D(\n",
    "            filters=32,\n",
    "            kernel_size=(3,3),\n",
    "            input_shape=input_shape,\n",
    "            return_sequences=True,\n",
    "            recurrent_activation='hard_sigmoid',\n",
    "            activation='tanh',\n",
    "            padding='same',\n",
    "            kernel_initializer='glorot_uniform',\n",
    "            name='convlstm2d_3'\n",
    "        )\n",
    "    )\n",
    "   \n",
    "    net.add(BatchNormalization(name='batchnorm_3'))\n",
    "    \n",
    "    net.add(\n",
    "        MaxPooling3D(\n",
    "            pool_size=(1, 2, 2),\n",
    "            padding='same',\n",
    "            name='maxpool3d_3'\n",
    "        )\n",
    "    )\n",
    "    \n",
    "    net.add(\n",
    "        ConvLSTM2D(\n",
    "            filters=32,\n",
    "            kernel_size=(3,3),\n",
    "            input_shape=input_shape,\n",
    "            return_sequences=True,\n",
    "            recurrent_activation='hard_sigmoid',\n",
    "            activation='tanh',\n",
    "            padding='same',\n",
    "            kernel_initializer='glorot_uniform',\n",
    "            name='convlstm2d_4'\n",
    "        )\n",
    "    )\n",
    "\n",
    "    net.add(BatchNormalization(name='batchnorm_4'))\n",
    "\n",
    "    net.add(\n",
    "        MaxPooling3D(\n",
    "            pool_size=(1, 2, 2),\n",
    "            padding='same',\n",
    "            name='maxpool3d_4'\n",
    "        )\n",
    "    )\n",
    "\n",
    "    net.add(Dropout(0.4, name='dropout_2'))\n",
    "    \n",
    "    net.add(TimeDistributed(Flatten(name=\"flatten\")))\n",
    "    \n",
    "    net.add(\n",
    "        TimeDistributed(\n",
    "            Dense(\n",
    "                64,\n",
    "                activation='elu',\n",
    "                kernel_initializer='he_normal',\n",
    "                name='dense_1'\n",
    "            )\n",
    "        )\n",
    "    )\n",
    "    net.add(BatchNormalization(name='batchnorm_5'))\n",
    "\n",
    "    net.add(\n",
    "          Dense(\n",
    "              num_class,\n",
    "              activation='softmax',\n",
    "              name='out_layer'\n",
    "          )\n",
    "    )\n",
    "\n",
    "    if show_summary:\n",
    "        net.summary()\n",
    "\n",
    "    return net"
   ]
  },
  {
   "cell_type": "code",
   "execution_count": 36,
   "metadata": {
    "colab": {
     "base_uri": "https://localhost:8080/"
    },
    "id": "EhDi11JaSF3Y",
    "outputId": "b0224e25-1854-445b-fc2d-5a37f425ec2b"
   },
   "outputs": [
    {
     "name": "stdout",
     "output_type": "stream",
     "text": [
      "Model: \"ConvLSTM2D\"\n",
      "_________________________________________________________________\n",
      "Layer (type)                 Output Shape              Param #   \n",
      "=================================================================\n",
      "convlstm2d_1 (ConvLSTM2D)    (None, 3, 48, 48, 32)     38144     \n",
      "_________________________________________________________________\n",
      "batchnorm_1 (BatchNormalizat (None, 3, 48, 48, 32)     128       \n",
      "_________________________________________________________________\n",
      "maxpool3d_1 (MaxPooling3D)   (None, 3, 24, 24, 32)     0         \n",
      "_________________________________________________________________\n",
      "convlstm2d_2 (ConvLSTM2D)    (None, 3, 24, 24, 32)     73856     \n",
      "_________________________________________________________________\n",
      "batchnorm_2 (BatchNormalizat (None, 3, 24, 24, 32)     128       \n",
      "_________________________________________________________________\n",
      "maxpool3d_2 (MaxPooling3D)   (None, 3, 12, 12, 32)     0         \n",
      "_________________________________________________________________\n",
      "dropout_1 (Dropout)          (None, 3, 12, 12, 32)     0         \n",
      "_________________________________________________________________\n",
      "convlstm2d_3 (ConvLSTM2D)    (None, 3, 12, 12, 32)     73856     \n",
      "_________________________________________________________________\n",
      "batchnorm_3 (BatchNormalizat (None, 3, 12, 12, 32)     128       \n",
      "_________________________________________________________________\n",
      "maxpool3d_3 (MaxPooling3D)   (None, 3, 6, 6, 32)       0         \n",
      "_________________________________________________________________\n",
      "convlstm2d_4 (ConvLSTM2D)    (None, 3, 6, 6, 32)       73856     \n",
      "_________________________________________________________________\n",
      "batchnorm_4 (BatchNormalizat (None, 3, 6, 6, 32)       128       \n",
      "_________________________________________________________________\n",
      "maxpool3d_4 (MaxPooling3D)   (None, 3, 3, 3, 32)       0         \n",
      "_________________________________________________________________\n",
      "dropout_2 (Dropout)          (None, 3, 3, 3, 32)       0         \n",
      "_________________________________________________________________\n",
      "time_distributed_4 (TimeDist (None, 3, 288)            0         \n",
      "_________________________________________________________________\n",
      "time_distributed_5 (TimeDist (None, 3, 64)             18496     \n",
      "_________________________________________________________________\n",
      "batchnorm_5 (BatchNormalizat (None, 3, 64)             256       \n",
      "_________________________________________________________________\n",
      "out_layer (Dense)            (None, 3, 5)              325       \n",
      "=================================================================\n",
      "Total params: 279,301\n",
      "Trainable params: 278,917\n",
      "Non-trainable params: 384\n",
      "_________________________________________________________________\n"
     ]
    }
   ],
   "source": [
    "INPUT_SHAPE = (3, 48, 48, 1)\n",
    "optim = optimizers.Adam(0.001)\n",
    "\n",
    "model = build_convlstm(INPUT_SHAPE, num_class=5)\n",
    "model.compile(\n",
    "        loss='categorical_crossentropy',\n",
    "        optimizer=optim,\n",
    "        metrics=['acc']\n",
    ")"
   ]
  },
  {
   "cell_type": "code",
   "execution_count": 37,
   "metadata": {
    "id": "vC807TO-kqOF"
   },
   "outputs": [],
   "source": [
    "early_stopping = EarlyStopping(\n",
    "    monitor='val_loss',\n",
    "    min_delta=0.00005,\n",
    "    patience=12,\n",
    "    verbose=1,\n",
    "    restore_best_weights=True,\n",
    ")\n",
    "\n",
    "lr_scheduler = ReduceLROnPlateau(\n",
    "    monitor='val_acc',\n",
    "    factor=0.7,\n",
    "    patience=7,\n",
    "    min_lr=1e-7,\n",
    "    verbose=1,\n",
    ")\n",
    "\n",
    "callbacks = [\n",
    "#     early_stopping,\n",
    "    lr_scheduler,\n",
    "]\n",
    "\n",
    "batch_size = 32\n",
    "epochs = 30"
   ]
  },
  {
   "cell_type": "code",
   "execution_count": 36,
   "metadata": {
    "id": "ryAtAYBRXpue"
   },
   "outputs": [],
   "source": [
    "y_train_ = np.empty((y_train.shape[0], 3, 5))\n",
    "for i in range(y_train.shape[0]):\n",
    "    y_train_[i] = np.tile(y_train[i], (3,1))\n",
    "    \n",
    "# y_valid_ = np.empty((y_valid.shape[0], 3, 5))\n",
    "# for i in range(y_valid.shape[0]):\n",
    "#     y_valid_[i] = np.tile(y_valid[i], (3,1))"
   ]
  },
  {
   "cell_type": "code",
   "execution_count": 37,
   "metadata": {
    "colab": {
     "base_uri": "https://localhost:8080/"
    },
    "id": "CQqdvdH0XRG5",
    "outputId": "ec35f0b6-e959-4a17-99df-3fba7542ee1f"
   },
   "outputs": [
    {
     "name": "stdout",
     "output_type": "stream",
     "text": [
      "[1. 0. 0. 0. 0.]\n"
     ]
    }
   ],
   "source": [
    "print(y_train[0])"
   ]
  },
  {
   "cell_type": "code",
   "execution_count": 38,
   "metadata": {
    "colab": {
     "base_uri": "https://localhost:8080/"
    },
    "id": "hjsWInfbnbPs",
    "outputId": "0d77ef82-c874-4829-d3da-b300da2f9e81"
   },
   "outputs": [
    {
     "name": "stdout",
     "output_type": "stream",
     "text": [
      "[[1. 0. 0. 0. 0.]\n",
      " [1. 0. 0. 0. 0.]\n",
      " [1. 0. 0. 0. 0.]]\n"
     ]
    }
   ],
   "source": [
    "print(y_train_[0])"
   ]
  },
  {
   "cell_type": "code",
   "execution_count": 39,
   "metadata": {
    "colab": {
     "base_uri": "https://localhost:8080/"
    },
    "id": "h6vFZMHTWbdP",
    "outputId": "ca21c070-32f1-4eaf-88e9-d9e045fcc2bc"
   },
   "outputs": [
    {
     "data": {
      "text/plain": [
       "(750, 3, 5)"
      ]
     },
     "execution_count": 39,
     "metadata": {},
     "output_type": "execute_result"
    }
   ],
   "source": [
    "y_train_.shape #, y_valid_.shape"
   ]
  },
  {
   "cell_type": "code",
   "execution_count": 42,
   "metadata": {
    "colab": {
     "base_uri": "https://localhost:8080/"
    },
    "id": "kZPn0L5zSX9X",
    "outputId": "e8e91863-32c3-4efc-ca71-1256840e64f2",
    "scrolled": false
   },
   "outputs": [
    {
     "name": "stdout",
     "output_type": "stream",
     "text": [
      "Train on 750 samples\n",
      "Epoch 1/40\n",
      "736/750 [============================>.] - ETA: 1s - loss: 1.7132 - acc: 0.3428WARNING:tensorflow:Reduce LR on plateau conditioned on metric `val_acc` which is not available. Available metrics are: loss,acc,lr\n",
      "750/750 [==============================] - 99s 132ms/sample - loss: 1.7023 - acc: 0.3493\n",
      "Epoch 2/40\n",
      "736/750 [============================>.] - ETA: 1s - loss: 1.0318 - acc: 0.6227WARNING:tensorflow:Reduce LR on plateau conditioned on metric `val_acc` which is not available. Available metrics are: loss,acc,lr\n",
      "750/750 [==============================] - 96s 128ms/sample - loss: 1.0386 - acc: 0.6196\n",
      "Epoch 3/40\n",
      "736/750 [============================>.] - ETA: 1s - loss: 0.7473 - acc: 0.7301WARNING:tensorflow:Reduce LR on plateau conditioned on metric `val_acc` which is not available. Available metrics are: loss,acc,lr\n",
      "750/750 [==============================] - 97s 129ms/sample - loss: 0.7450 - acc: 0.7324\n",
      "Epoch 4/40\n",
      "736/750 [============================>.] - ETA: 1s - loss: 0.5357 - acc: 0.8025WARNING:tensorflow:Reduce LR on plateau conditioned on metric `val_acc` which is not available. Available metrics are: loss,acc,lr\n",
      "750/750 [==============================] - 97s 129ms/sample - loss: 0.5382 - acc: 0.8009\n",
      "Epoch 5/40\n",
      "736/750 [============================>.] - ETA: 1s - loss: 0.3838 - acc: 0.8614WARNING:tensorflow:Reduce LR on plateau conditioned on metric `val_acc` which is not available. Available metrics are: loss,acc,lr\n",
      "750/750 [==============================] - 95s 127ms/sample - loss: 0.3869 - acc: 0.8596\n",
      "Epoch 6/40\n",
      "736/750 [============================>.] - ETA: 1s - loss: 0.2899 - acc: 0.9067WARNING:tensorflow:Reduce LR on plateau conditioned on metric `val_acc` which is not available. Available metrics are: loss,acc,lr\n",
      "750/750 [==============================] - 97s 130ms/sample - loss: 0.2885 - acc: 0.9062\n",
      "Epoch 7/40\n",
      "736/750 [============================>.] - ETA: 1s - loss: 0.2135 - acc: 0.9380WARNING:tensorflow:Reduce LR on plateau conditioned on metric `val_acc` which is not available. Available metrics are: loss,acc,lr\n",
      "750/750 [==============================] - 98s 131ms/sample - loss: 0.2142 - acc: 0.9373\n",
      "Epoch 8/40\n",
      "736/750 [============================>.] - ETA: 1s - loss: 0.1367 - acc: 0.9601WARNING:tensorflow:Reduce LR on plateau conditioned on metric `val_acc` which is not available. Available metrics are: loss,acc,lr\n",
      "750/750 [==============================] - 96s 128ms/sample - loss: 0.1370 - acc: 0.9600\n",
      "Epoch 9/40\n",
      "736/750 [============================>.] - ETA: 1s - loss: 0.1206 - acc: 0.9638WARNING:tensorflow:Reduce LR on plateau conditioned on metric `val_acc` which is not available. Available metrics are: loss,acc,lr\n",
      "750/750 [==============================] - 96s 128ms/sample - loss: 0.1226 - acc: 0.9631\n",
      "Epoch 10/40\n",
      "736/750 [============================>.] - ETA: 1s - loss: 0.0775 - acc: 0.9796WARNING:tensorflow:Reduce LR on plateau conditioned on metric `val_acc` which is not available. Available metrics are: loss,acc,lr\n",
      "750/750 [==============================] - 104s 139ms/sample - loss: 0.0782 - acc: 0.9796\n",
      "Epoch 11/40\n",
      "736/750 [============================>.] - ETA: 1s - loss: 0.0562 - acc: 0.9887WARNING:tensorflow:Reduce LR on plateau conditioned on metric `val_acc` which is not available. Available metrics are: loss,acc,lr\n",
      "750/750 [==============================] - 84s 112ms/sample - loss: 0.0563 - acc: 0.9884\n",
      "Epoch 12/40\n",
      "736/750 [============================>.] - ETA: 1s - loss: 0.0486 - acc: 0.9864WARNING:tensorflow:Reduce LR on plateau conditioned on metric `val_acc` which is not available. Available metrics are: loss,acc,lr\n",
      "750/750 [==============================] - 83s 111ms/sample - loss: 0.0485 - acc: 0.9867\n",
      "Epoch 13/40\n",
      "736/750 [============================>.] - ETA: 1s - loss: 0.0493 - acc: 0.9882WARNING:tensorflow:Reduce LR on plateau conditioned on metric `val_acc` which is not available. Available metrics are: loss,acc,lr\n",
      "750/750 [==============================] - 84s 113ms/sample - loss: 0.0496 - acc: 0.9880\n",
      "Epoch 14/40\n",
      "736/750 [============================>.] - ETA: 1s - loss: 0.0505 - acc: 0.9869WARNING:tensorflow:Reduce LR on plateau conditioned on metric `val_acc` which is not available. Available metrics are: loss,acc,lr\n",
      "750/750 [==============================] - 83s 111ms/sample - loss: 0.0515 - acc: 0.9862\n",
      "Epoch 15/40\n",
      "736/750 [============================>.] - ETA: 1s - loss: 0.0440 - acc: 0.9900WARNING:tensorflow:Reduce LR on plateau conditioned on metric `val_acc` which is not available. Available metrics are: loss,acc,lr\n",
      "750/750 [==============================] - 93s 124ms/sample - loss: 0.0440 - acc: 0.9902\n",
      "Epoch 16/40\n",
      "736/750 [============================>.] - ETA: 1s - loss: 0.0456 - acc: 0.9860WARNING:tensorflow:Reduce LR on plateau conditioned on metric `val_acc` which is not available. Available metrics are: loss,acc,lr\n",
      "750/750 [==============================] - 88s 117ms/sample - loss: 0.0450 - acc: 0.9862\n",
      "Epoch 17/40\n",
      "736/750 [============================>.] - ETA: 1s - loss: 0.0301 - acc: 0.9946WARNING:tensorflow:Reduce LR on plateau conditioned on metric `val_acc` which is not available. Available metrics are: loss,acc,lr\n",
      "750/750 [==============================] - 84s 112ms/sample - loss: 0.0298 - acc: 0.9947\n",
      "Epoch 18/40\n",
      "736/750 [============================>.] - ETA: 1s - loss: 0.0282 - acc: 0.9964WARNING:tensorflow:Reduce LR on plateau conditioned on metric `val_acc` which is not available. Available metrics are: loss,acc,lr\n",
      "750/750 [==============================] - 83s 111ms/sample - loss: 0.0278 - acc: 0.9964\n",
      "Epoch 19/40\n",
      "736/750 [============================>.] - ETA: 1s - loss: 0.0156 - acc: 0.9982WARNING:tensorflow:Reduce LR on plateau conditioned on metric `val_acc` which is not available. Available metrics are: loss,acc,lr\n",
      "750/750 [==============================] - 84s 111ms/sample - loss: 0.0156 - acc: 0.9982\n",
      "Epoch 20/40\n",
      "736/750 [============================>.] - ETA: 1s - loss: 0.0147 - acc: 0.9991WARNING:tensorflow:Reduce LR on plateau conditioned on metric `val_acc` which is not available. Available metrics are: loss,acc,lr\n",
      "750/750 [==============================] - 86s 114ms/sample - loss: 0.0156 - acc: 0.9987\n",
      "Epoch 21/40\n",
      "736/750 [============================>.] - ETA: 14s - loss: 0.0156 - acc: 0.9968WARNING:tensorflow:Reduce LR on plateau conditioned on metric `val_acc` which is not available. Available metrics are: loss,acc,lr\n",
      "750/750 [==============================] - 756s 1s/sample - loss: 0.0163 - acc: 0.9964\n",
      "Epoch 22/40\n",
      "736/750 [============================>.] - ETA: 1s - loss: 0.0134 - acc: 0.9982WARNING:tensorflow:Reduce LR on plateau conditioned on metric `val_acc` which is not available. Available metrics are: loss,acc,lr\n",
      "750/750 [==============================] - 83s 111ms/sample - loss: 0.0139 - acc: 0.9982\n",
      "Epoch 23/40\n",
      "736/750 [============================>.] - ETA: 1s - loss: 0.0118 - acc: 0.9977WARNING:tensorflow:Reduce LR on plateau conditioned on metric `val_acc` which is not available. Available metrics are: loss,acc,lr\n",
      "750/750 [==============================] - 84s 112ms/sample - loss: 0.0116 - acc: 0.9978\n",
      "Epoch 24/40\n",
      "736/750 [============================>.] - ETA: 1s - loss: 0.0104 - acc: 0.9995WARNING:tensorflow:Reduce LR on plateau conditioned on metric `val_acc` which is not available. Available metrics are: loss,acc,lr\n",
      "750/750 [==============================] - 84s 112ms/sample - loss: 0.0104 - acc: 0.9996\n",
      "Epoch 25/40\n",
      "736/750 [============================>.] - ETA: 6s - loss: 0.0087 - acc: 0.9986 WARNING:tensorflow:Reduce LR on plateau conditioned on metric `val_acc` which is not available. Available metrics are: loss,acc,lr\n",
      "750/750 [==============================] - 342s 455ms/sample - loss: 0.0093 - acc: 0.9982\n",
      "Epoch 26/40\n",
      "736/750 [============================>.] - ETA: 1s - loss: 0.0160 - acc: 0.9964WARNING:tensorflow:Reduce LR on plateau conditioned on metric `val_acc` which is not available. Available metrics are: loss,acc,lr\n",
      "750/750 [==============================] - 103s 137ms/sample - loss: 0.0257 - acc: 0.9924\n",
      "Epoch 27/40\n",
      "736/750 [============================>.] - ETA: 1s - loss: 0.0722 - acc: 0.9724WARNING:tensorflow:Reduce LR on plateau conditioned on metric `val_acc` which is not available. Available metrics are: loss,acc,lr\n",
      "750/750 [==============================] - 99s 132ms/sample - loss: 0.0715 - acc: 0.9724\n",
      "Epoch 28/40\n",
      "736/750 [============================>.] - ETA: 1s - loss: 0.0488 - acc: 0.9819WARNING:tensorflow:Reduce LR on plateau conditioned on metric `val_acc` which is not available. Available metrics are: loss,acc,lr\n",
      "750/750 [==============================] - 106s 141ms/sample - loss: 0.0483 - acc: 0.9822\n",
      "Epoch 29/40\n",
      "736/750 [============================>.] - ETA: 2s - loss: 0.0379 - acc: 0.9887WARNING:tensorflow:Reduce LR on plateau conditioned on metric `val_acc` which is not available. Available metrics are: loss,acc,lr\n",
      "750/750 [==============================] - 113s 151ms/sample - loss: 0.0374 - acc: 0.9889\n",
      "Epoch 30/40\n",
      "736/750 [============================>.] - ETA: 2s - loss: 0.0211 - acc: 0.9941WARNING:tensorflow:Reduce LR on plateau conditioned on metric `val_acc` which is not available. Available metrics are: loss,acc,lr\n",
      "750/750 [==============================] - 132s 176ms/sample - loss: 0.0221 - acc: 0.9938\n",
      "Epoch 31/40\n",
      "736/750 [============================>.] - ETA: 2s - loss: 0.0245 - acc: 0.9932WARNING:tensorflow:Reduce LR on plateau conditioned on metric `val_acc` which is not available. Available metrics are: loss,acc,lr\n",
      "750/750 [==============================] - 127s 170ms/sample - loss: 0.0242 - acc: 0.9933\n",
      "Epoch 32/40\n",
      "736/750 [============================>.] - ETA: 1s - loss: 0.0172 - acc: 0.9959WARNING:tensorflow:Reduce LR on plateau conditioned on metric `val_acc` which is not available. Available metrics are: loss,acc,lr\n",
      "750/750 [==============================] - 98s 131ms/sample - loss: 0.0177 - acc: 0.9960\n",
      "Epoch 33/40\n",
      "736/750 [============================>.] - ETA: 1s - loss: 0.0402 - acc: 0.9887WARNING:tensorflow:Reduce LR on plateau conditioned on metric `val_acc` which is not available. Available metrics are: loss,acc,lr\n",
      "750/750 [==============================] - 91s 121ms/sample - loss: 0.0396 - acc: 0.9889\n",
      "Epoch 34/40\n",
      "736/750 [============================>.] - ETA: 1s - loss: 0.0188 - acc: 0.9937WARNING:tensorflow:Reduce LR on plateau conditioned on metric `val_acc` which is not available. Available metrics are: loss,acc,lr\n",
      "750/750 [==============================] - 102s 136ms/sample - loss: 0.0188 - acc: 0.9933\n",
      "Epoch 35/40\n",
      "736/750 [============================>.] - ETA: 1s - loss: 0.0187 - acc: 0.9955WARNING:tensorflow:Reduce LR on plateau conditioned on metric `val_acc` which is not available. Available metrics are: loss,acc,lr\n",
      "750/750 [==============================] - 97s 129ms/sample - loss: 0.0194 - acc: 0.9951\n",
      "Epoch 36/40\n",
      "736/750 [============================>.] - ETA: 1s - loss: 0.0247 - acc: 0.9941WARNING:tensorflow:Reduce LR on plateau conditioned on metric `val_acc` which is not available. Available metrics are: loss,acc,lr\n",
      "750/750 [==============================] - 87s 116ms/sample - loss: 0.0246 - acc: 0.9942\n",
      "Epoch 37/40\n",
      "736/750 [============================>.] - ETA: 1s - loss: 0.0371 - acc: 0.9882WARNING:tensorflow:Reduce LR on plateau conditioned on metric `val_acc` which is not available. Available metrics are: loss,acc,lr\n",
      "750/750 [==============================] - 84s 112ms/sample - loss: 0.0365 - acc: 0.9884\n",
      "Epoch 38/40\n",
      "736/750 [============================>.] - ETA: 1s - loss: 0.0162 - acc: 0.9959WARNING:tensorflow:Reduce LR on plateau conditioned on metric `val_acc` which is not available. Available metrics are: loss,acc,lr\n",
      "750/750 [==============================] - 84s 111ms/sample - loss: 0.0176 - acc: 0.9951\n",
      "Epoch 39/40\n",
      "736/750 [============================>.] - ETA: 1s - loss: 0.0127 - acc: 0.9968WARNING:tensorflow:Reduce LR on plateau conditioned on metric `val_acc` which is not available. Available metrics are: loss,acc,lr\n",
      "750/750 [==============================] - 84s 113ms/sample - loss: 0.0129 - acc: 0.9969\n",
      "Epoch 40/40\n",
      "736/750 [============================>.] - ETA: 1s - loss: 0.0072 - acc: 0.9986WARNING:tensorflow:Reduce LR on plateau conditioned on metric `val_acc` which is not available. Available metrics are: loss,acc,lr\n",
      "750/750 [==============================] - 84s 112ms/sample - loss: 0.0073 - acc: 0.9987\n"
     ]
    }
   ],
   "source": [
    "history = model.fit(\n",
    "    x=X_train,\n",
    "    y=y_train_,\n",
    "    batch_size=batch_size,\n",
    "    epochs=40,\n",
    "    callbacks=callbacks,\n",
    "    use_multiprocessing=True\n",
    ")"
   ]
  },
  {
   "cell_type": "code",
   "execution_count": 13,
   "metadata": {},
   "outputs": [
    {
     "ename": "ImportError",
     "evalue": "cannot import name 'loadLayersModel' from 'keras.models' (/opt/anaconda3/lib/python3.7/site-packages/keras/models.py)",
     "output_type": "error",
     "traceback": [
      "\u001b[0;31m---------------------------------------------------------------------------\u001b[0m",
      "\u001b[0;31mImportError\u001b[0m                               Traceback (most recent call last)",
      "\u001b[0;32m<ipython-input-13-ff273943341b>\u001b[0m in \u001b[0;36m<module>\u001b[0;34m\u001b[0m\n\u001b[1;32m      1\u001b[0m \u001b[0;32mfrom\u001b[0m \u001b[0mtensorflow\u001b[0m \u001b[0;32mimport\u001b[0m \u001b[0mkeras\u001b[0m\u001b[0;34m\u001b[0m\u001b[0;34m\u001b[0m\u001b[0m\n\u001b[0;32m----> 2\u001b[0;31m \u001b[0;32mfrom\u001b[0m \u001b[0mkeras\u001b[0m\u001b[0;34m.\u001b[0m\u001b[0mmodels\u001b[0m \u001b[0;32mimport\u001b[0m \u001b[0mModel\u001b[0m\u001b[0;34m,\u001b[0m \u001b[0mload_model\u001b[0m\u001b[0;34m,\u001b[0m \u001b[0mloadLayersModel\u001b[0m\u001b[0;34m\u001b[0m\u001b[0;34m\u001b[0m\u001b[0m\n\u001b[0m",
      "\u001b[0;31mImportError\u001b[0m: cannot import name 'loadLayersModel' from 'keras.models' (/opt/anaconda3/lib/python3.7/site-packages/keras/models.py)"
     ]
    }
   ],
   "source": [
    "from tensorflow import keras\n",
    "from keras.models import Model, load_model, loadLayersModel"
   ]
  },
  {
   "cell_type": "code",
   "execution_count": 47,
   "metadata": {},
   "outputs": [],
   "source": [
    "model.save('./Emotion_CNN.h5')"
   ]
  },
  {
   "cell_type": "code",
   "execution_count": 21,
   "metadata": {},
   "outputs": [
    {
     "name": "stdout",
     "output_type": "stream",
     "text": [
      "WARNING:tensorflow:From /opt/anaconda3/lib/python3.7/site-packages/tensorflow_core/python/ops/init_ops.py:97: calling GlorotUniform.__init__ (from tensorflow.python.ops.init_ops) with dtype is deprecated and will be removed in a future version.\n",
      "Instructions for updating:\n",
      "Call initializer instance with the dtype argument instead of passing it to the constructor\n",
      "WARNING:tensorflow:From /opt/anaconda3/lib/python3.7/site-packages/tensorflow_core/python/ops/init_ops.py:97: calling Orthogonal.__init__ (from tensorflow.python.ops.init_ops) with dtype is deprecated and will be removed in a future version.\n",
      "Instructions for updating:\n",
      "Call initializer instance with the dtype argument instead of passing it to the constructor\n",
      "WARNING:tensorflow:From /opt/anaconda3/lib/python3.7/site-packages/tensorflow_core/python/ops/init_ops.py:97: calling Zeros.__init__ (from tensorflow.python.ops.init_ops) with dtype is deprecated and will be removed in a future version.\n",
      "Instructions for updating:\n",
      "Call initializer instance with the dtype argument instead of passing it to the constructor\n",
      "WARNING:tensorflow:From /opt/anaconda3/lib/python3.7/site-packages/tensorflow_core/python/ops/resource_variable_ops.py:1630: calling BaseResourceVariable.__init__ (from tensorflow.python.ops.resource_variable_ops) with constraint is deprecated and will be removed in a future version.\n",
      "Instructions for updating:\n",
      "If using Keras pass *_constraint arguments to layers.\n",
      "WARNING:tensorflow:From /opt/anaconda3/lib/python3.7/site-packages/tensorflow_core/python/ops/init_ops.py:97: calling Ones.__init__ (from tensorflow.python.ops.init_ops) with dtype is deprecated and will be removed in a future version.\n",
      "Instructions for updating:\n",
      "Call initializer instance with the dtype argument instead of passing it to the constructor\n",
      "WARNING:tensorflow:From /opt/anaconda3/lib/python3.7/site-packages/tensorflow_core/python/ops/init_ops.py:97: calling VarianceScaling.__init__ (from tensorflow.python.ops.init_ops) with dtype is deprecated and will be removed in a future version.\n",
      "Instructions for updating:\n",
      "Call initializer instance with the dtype argument instead of passing it to the constructor\n",
      "WARNING:tensorflow:From /opt/anaconda3/lib/python3.7/site-packages/tensorflow_core/python/ops/math_grad.py:1424: where (from tensorflow.python.ops.array_ops) is deprecated and will be removed in a future version.\n",
      "Instructions for updating:\n",
      "Use tf.where in 2.0, which has the same broadcast rule as np.where\n"
     ]
    }
   ],
   "source": []
  },
  {
   "cell_type": "code",
   "execution_count": null,
   "metadata": {
    "id": "IP4bhzK0Yigi"
   },
   "outputs": [],
   "source": [
    "sns.set()\n",
    "fig = pyplot.figure(0, (12, 4))\n",
    "\n",
    "ax = pyplot.subplot(1, 2, 1)\n",
    "sns.lineplot(history.epoch, history.history['acc'], label='train')\n",
    "# sns.lineplot(history.epoch, history.history['val_acc'], label='valid')\n",
    "pyplot.title('Accuracy')\n",
    "pyplot.tight_layout()\n",
    "\n",
    "ax = pyplot.subplot(1, 2, 2)\n",
    "sns.lineplot(history.epoch, history.history['loss'], label='train')\n",
    "# sns.lineplot(history.epoch, history.history['val_loss'], label='valid')\n",
    "pyplot.title('Loss')\n",
    "pyplot.tight_layout()\n",
    "\n",
    "pyplot.savefig('epoch_history.png')\n",
    "pyplot.show()"
   ]
  },
  {
   "cell_type": "code",
   "execution_count": null,
   "metadata": {
    "colab": {
     "base_uri": "https://localhost:8080/"
    },
    "id": "dDX7gqSy3qPK",
    "outputId": "85b56269-35da-43f3-e627-0f0733491274"
   },
   "outputs": [],
   "source": [
    "path = \"../content/drive/MyDrive/CK+48/fear/\"\n",
    "for dir_ in os.listdir(path):\n",
    "  img = cv2.imread(path+dir_, 0)\n",
    "print(img.shape)"
   ]
  },
  {
   "cell_type": "code",
   "execution_count": null,
   "metadata": {
    "id": "6qqHVNg1sF1t"
   },
   "outputs": [],
   "source": []
  },
  {
   "cell_type": "code",
   "execution_count": null,
   "metadata": {
    "colab": {
     "base_uri": "https://localhost:8080/",
     "height": 307
    },
    "id": "g5GtO9sMtTft",
    "outputId": "6ac60d6f-2b51-48db-b16b-f89e5fe05b1b"
   },
   "outputs": [],
   "source": []
  },
  {
   "cell_type": "code",
   "execution_count": 76,
   "metadata": {
    "colab": {
     "base_uri": "https://localhost:8080/",
     "height": 164
    },
    "id": "YudWTRFvtwBO",
    "outputId": "bab7d52e-4e2b-4f3a-9cd3-e2a64795247d"
   },
   "outputs": [],
   "source": [
    "predi = classifierLoad.predict(X_train)"
   ]
  },
  {
   "cell_type": "code",
   "execution_count": 77,
   "metadata": {
    "colab": {
     "base_uri": "https://localhost:8080/"
    },
    "id": "rPv6KxhysyOx",
    "outputId": "ae16b517-e968-4d55-a00e-3dabe8357cdd"
   },
   "outputs": [
    {
     "data": {
      "text/plain": [
       "(750, 3, 5)"
      ]
     },
     "execution_count": 77,
     "metadata": {},
     "output_type": "execute_result"
    }
   ],
   "source": [
    "predi.shape"
   ]
  },
  {
   "cell_type": "code",
   "execution_count": 79,
   "metadata": {
    "colab": {
     "base_uri": "https://localhost:8080/"
    },
    "id": "wbh8KSD3s6IW",
    "outputId": "7157fb7c-f60a-4fd6-f491-039dd5c4cda7"
   },
   "outputs": [
    {
     "data": {
      "text/plain": [
       "array([[4.8781277e-07, 9.9998438e-01, 1.2608976e-05, 1.9590702e-07,\n",
       "        2.3055163e-06],\n",
       "       [4.3492285e-08, 9.9999940e-01, 4.4432414e-07, 2.0396090e-08,\n",
       "        1.7582623e-07],\n",
       "       [3.2417159e-08, 9.9999940e-01, 3.9390287e-07, 2.9791945e-08,\n",
       "        2.2264301e-07]], dtype=float32)"
      ]
     },
     "execution_count": 79,
     "metadata": {},
     "output_type": "execute_result"
    }
   ],
   "source": [
    "predi[110]"
   ]
  },
  {
   "cell_type": "code",
   "execution_count": 95,
   "metadata": {
    "id": "RdXBk7wVs6LR"
   },
   "outputs": [],
   "source": [
    "predictions = []\n",
    "for i in range(0,749):\n",
    "    result = predi[i].sum(axis=0)\n",
    "    j = np.unravel_index(result.argmax(),result.shape)\n",
    "#     print(j[0])\n",
    "    predictions.append(j[0])\n"
   ]
  },
  {
   "cell_type": "code",
   "execution_count": 98,
   "metadata": {},
   "outputs": [
    {
     "name": "stdout",
     "output_type": "stream",
     "text": [
      "[0, 0, 0, 0, 0, 0, 0, 0, 0, 0, 0, 0, 0, 0, 0, 0, 0, 0, 0, 0, 0, 0, 0, 0, 0, 0, 0, 0, 0, 0, 0, 0, 0, 0, 0, 0, 0, 0, 0, 0, 0, 0, 0, 0, 0, 0, 0, 0, 0, 0, 0, 0, 0, 0, 0, 0, 0, 0, 0, 0, 0, 0, 0, 0, 0, 0, 0, 0, 0, 0, 0, 0, 0, 0, 0, 0, 0, 0, 0, 0, 0, 0, 0, 1, 1, 1, 1, 1, 1, 1, 1, 1, 1, 1, 1, 1, 1, 1, 1, 1, 1, 1, 1, 1, 1, 1, 1, 1, 1, 1, 1, 1, 1, 1, 1, 1, 1, 1, 1, 1, 1, 1, 1, 1, 1, 1, 1, 1, 1, 1, 1, 1, 1, 1, 1, 1, 1, 1, 1, 1, 1, 1, 1, 1, 1, 1, 1, 1, 1, 1, 1, 1, 2, 2, 2, 2, 2, 2, 2, 2, 2, 2, 2, 2, 2, 2, 2, 2, 2, 2, 2, 2, 2, 2, 2, 2, 2, 2, 2, 2, 2, 2, 2, 2, 2, 2, 2, 2, 2, 2, 2, 2, 2, 2, 2, 2, 2, 3, 3, 3, 3, 3, 3, 3, 3, 3, 3, 3, 3, 3, 3, 3, 3, 3, 3, 3, 3, 3, 3, 3, 3, 3, 3, 3, 3, 4, 4, 4, 4, 4, 4, 4, 4, 4, 4, 4, 4, 4, 4, 4, 4, 4, 4, 4, 4, 4, 4, 4, 4, 4, 0, 0, 0, 0, 0, 0, 0, 0, 0, 0, 0, 0, 0, 0, 0, 0, 0, 0, 0, 0, 0, 0, 0, 0, 0, 0, 0, 0, 0, 0, 0, 0, 0, 0, 0, 0, 0, 0, 0, 0, 0, 0, 0, 0, 0, 0, 0, 0, 0, 0, 0, 0, 0, 0, 0, 0, 0, 0, 0, 0, 0, 0, 0, 0, 0, 0, 0, 0, 0, 0, 0, 0, 0, 0, 0, 0, 0, 0, 0, 0, 0, 0, 0, 1, 1, 1, 1, 1, 1, 1, 1, 1, 1, 1, 1, 1, 1, 1, 1, 1, 1, 1, 1, 1, 1, 1, 1, 1, 1, 1, 1, 1, 1, 1, 1, 1, 1, 1, 1, 1, 1, 1, 1, 1, 1, 1, 1, 1, 1, 1, 1, 1, 1, 1, 1, 1, 1, 1, 1, 1, 1, 1, 1, 1, 1, 1, 1, 1, 1, 1, 1, 1, 2, 2, 2, 2, 2, 2, 2, 2, 2, 2, 2, 2, 2, 2, 2, 2, 2, 2, 2, 2, 2, 2, 2, 2, 2, 2, 2, 2, 2, 2, 2, 2, 2, 2, 2, 2, 2, 2, 2, 2, 2, 2, 2, 2, 2, 3, 3, 3, 3, 3, 3, 3, 3, 3, 3, 3, 3, 3, 3, 3, 3, 3, 3, 3, 3, 3, 3, 3, 3, 3, 3, 3, 3, 4, 4, 4, 4, 4, 4, 4, 4, 4, 4, 4, 4, 4, 4, 4, 4, 4, 4, 4, 4, 4, 4, 4, 4, 4, 0, 0, 0, 0, 0, 0, 0, 0, 0, 0, 0, 0, 0, 0, 0, 0, 0, 0, 0, 0, 0, 0, 0, 0, 0, 0, 0, 0, 0, 0, 0, 0, 0, 0, 0, 0, 0, 0, 0, 0, 0, 0, 0, 0, 0, 0, 0, 0, 0, 0, 0, 0, 0, 0, 0, 0, 0, 0, 0, 0, 0, 0, 0, 0, 0, 0, 0, 0, 0, 0, 0, 0, 0, 0, 0, 0, 0, 0, 0, 0, 0, 0, 0, 1, 1, 1, 1, 1, 1, 1, 1, 1, 1, 1, 1, 1, 1, 1, 1, 1, 1, 1, 1, 1, 1, 1, 1, 1, 1, 1, 1, 1, 1, 1, 1, 1, 1, 1, 1, 1, 1, 1, 1, 1, 1, 1, 1, 1, 1, 1, 1, 1, 1, 1, 1, 1, 1, 1, 1, 1, 1, 1, 1, 1, 1, 1, 1, 1, 1, 1, 1, 1, 2, 2, 2, 2, 2, 2, 2, 2, 2, 2, 2, 2, 2, 2, 2, 2, 2, 2, 2, 2, 2, 2, 2, 2, 2, 2, 2, 2, 2, 2, 2, 2, 2, 2, 2, 2, 2, 2, 2, 2, 2, 2, 2, 2, 2, 3, 3, 3, 3, 3, 3, 3, 3, 3, 3, 3, 3, 3, 3, 3, 3, 3, 3, 3, 3, 3, 3, 3, 3, 3, 3, 3, 3, 4, 4, 4, 4, 4, 4, 4, 4, 4, 4, 4, 4, 4, 4, 4, 4, 4, 4, 4, 4, 4, 4, 4, 4]\n"
     ]
    }
   ],
   "source": [
    "print(predictions)"
   ]
  },
  {
   "cell_type": "code",
   "execution_count": 82,
   "metadata": {
    "id": "NiKj08Ugs6N6"
   },
   "outputs": [
    {
     "name": "stdout",
     "output_type": "stream",
     "text": [
      "(1,)\n"
     ]
    }
   ],
   "source": []
  },
  {
   "cell_type": "code",
   "execution_count": null,
   "metadata": {
    "id": "We0sb_Czs6R4"
   },
   "outputs": [],
   "source": []
  },
  {
   "cell_type": "code",
   "execution_count": null,
   "metadata": {
    "id": "TQvyLrvYs6UN"
   },
   "outputs": [],
   "source": []
  }
 ],
 "metadata": {
  "accelerator": "GPU",
  "colab": {
   "collapsed_sections": [],
   "name": "Emotion_using_CNN",
   "provenance": []
  },
  "kernelspec": {
   "display_name": "Python 3",
   "language": "python",
   "name": "python3"
  },
  "language_info": {
   "codemirror_mode": {
    "name": "ipython",
    "version": 3
   },
   "file_extension": ".py",
   "mimetype": "text/x-python",
   "name": "python",
   "nbconvert_exporter": "python",
   "pygments_lexer": "ipython3",
   "version": "3.7.4"
  }
 },
 "nbformat": 4,
 "nbformat_minor": 1
}
